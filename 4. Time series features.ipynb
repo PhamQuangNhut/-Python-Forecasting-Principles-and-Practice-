{
 "cells": [
  {
   "cell_type": "markdown",
   "metadata": {},
   "source": [
    "**Chapter 4 Time series features**"
   ]
  },
  {
   "cell_type": "markdown",
   "metadata": {},
   "source": [
    "**4.1 Some simple statistics**"
   ]
  },
  {
   "cell_type": "code",
   "execution_count": 7,
   "metadata": {},
   "outputs": [
    {
     "data": {
      "text/html": [
       "<div>\n",
       "<style scoped>\n",
       "    .dataframe tbody tr th:only-of-type {\n",
       "        vertical-align: middle;\n",
       "    }\n",
       "\n",
       "    .dataframe tbody tr th {\n",
       "        vertical-align: top;\n",
       "    }\n",
       "\n",
       "    .dataframe thead th {\n",
       "        text-align: right;\n",
       "    }\n",
       "</style>\n",
       "<table border=\"1\" class=\"dataframe\">\n",
       "  <thead>\n",
       "    <tr style=\"text-align: right;\">\n",
       "      <th></th>\n",
       "      <th>count</th>\n",
       "      <th>mean</th>\n",
       "      <th>std</th>\n",
       "      <th>min</th>\n",
       "      <th>25%</th>\n",
       "      <th>50%</th>\n",
       "      <th>75%</th>\n",
       "      <th>max</th>\n",
       "    </tr>\n",
       "  </thead>\n",
       "  <tbody>\n",
       "    <tr>\n",
       "      <th>time</th>\n",
       "      <td>51072.0</td>\n",
       "      <td>1.668540e+12</td>\n",
       "      <td>2.655552e+10</td>\n",
       "      <td>1.622506e+12</td>\n",
       "      <td>1.645549e+12</td>\n",
       "      <td>1.668550e+12</td>\n",
       "      <td>1.691536e+12</td>\n",
       "      <td>1.714520e+12</td>\n",
       "    </tr>\n",
       "    <tr>\n",
       "      <th>solar</th>\n",
       "      <td>51072.0</td>\n",
       "      <td>8.205498e+00</td>\n",
       "      <td>1.281208e+01</td>\n",
       "      <td>0.000000e+00</td>\n",
       "      <td>0.000000e+00</td>\n",
       "      <td>1.000000e-03</td>\n",
       "      <td>1.297225e+01</td>\n",
       "      <td>4.969900e+01</td>\n",
       "    </tr>\n",
       "    <tr>\n",
       "      <th>power</th>\n",
       "      <td>51072.0</td>\n",
       "      <td>5.920927e+01</td>\n",
       "      <td>2.019562e+01</td>\n",
       "      <td>9.440000e-01</td>\n",
       "      <td>4.108775e+01</td>\n",
       "      <td>5.835850e+01</td>\n",
       "      <td>7.466225e+01</td>\n",
       "      <td>1.562510e+02</td>\n",
       "    </tr>\n",
       "    <tr>\n",
       "      <th>surplus</th>\n",
       "      <td>51072.0</td>\n",
       "      <td>1.125470e-04</td>\n",
       "      <td>4.584541e-03</td>\n",
       "      <td>0.000000e+00</td>\n",
       "      <td>0.000000e+00</td>\n",
       "      <td>0.000000e+00</td>\n",
       "      <td>0.000000e+00</td>\n",
       "      <td>4.690000e-01</td>\n",
       "    </tr>\n",
       "    <tr>\n",
       "      <th>demand</th>\n",
       "      <td>51072.0</td>\n",
       "      <td>6.741465e+01</td>\n",
       "      <td>2.470510e+01</td>\n",
       "      <td>9.440000e-01</td>\n",
       "      <td>4.252500e+01</td>\n",
       "      <td>7.243400e+01</td>\n",
       "      <td>8.339900e+01</td>\n",
       "      <td>1.562510e+02</td>\n",
       "    </tr>\n",
       "    <tr>\n",
       "      <th>insolation</th>\n",
       "      <td>0.0</td>\n",
       "      <td>NaN</td>\n",
       "      <td>NaN</td>\n",
       "      <td>NaN</td>\n",
       "      <td>NaN</td>\n",
       "      <td>NaN</td>\n",
       "      <td>NaN</td>\n",
       "      <td>NaN</td>\n",
       "    </tr>\n",
       "    <tr>\n",
       "      <th>temperature</th>\n",
       "      <td>0.0</td>\n",
       "      <td>NaN</td>\n",
       "      <td>NaN</td>\n",
       "      <td>NaN</td>\n",
       "      <td>NaN</td>\n",
       "      <td>NaN</td>\n",
       "      <td>NaN</td>\n",
       "      <td>NaN</td>\n",
       "    </tr>\n",
       "    <tr>\n",
       "      <th>count_solar</th>\n",
       "      <td>51072.0</td>\n",
       "      <td>2.999184e+01</td>\n",
       "      <td>4.300129e-01</td>\n",
       "      <td>1.000000e+00</td>\n",
       "      <td>3.000000e+01</td>\n",
       "      <td>3.000000e+01</td>\n",
       "      <td>3.000000e+01</td>\n",
       "      <td>3.000000e+01</td>\n",
       "    </tr>\n",
       "    <tr>\n",
       "      <th>count_power</th>\n",
       "      <td>51072.0</td>\n",
       "      <td>2.999170e+01</td>\n",
       "      <td>4.302607e-01</td>\n",
       "      <td>1.000000e+00</td>\n",
       "      <td>3.000000e+01</td>\n",
       "      <td>3.000000e+01</td>\n",
       "      <td>3.000000e+01</td>\n",
       "      <td>3.000000e+01</td>\n",
       "    </tr>\n",
       "    <tr>\n",
       "      <th>count_surplus</th>\n",
       "      <td>51072.0</td>\n",
       "      <td>2.999180e+01</td>\n",
       "      <td>4.298755e-01</td>\n",
       "      <td>1.000000e+00</td>\n",
       "      <td>3.000000e+01</td>\n",
       "      <td>3.000000e+01</td>\n",
       "      <td>3.000000e+01</td>\n",
       "      <td>3.000000e+01</td>\n",
       "    </tr>\n",
       "  </tbody>\n",
       "</table>\n",
       "</div>"
      ],
      "text/plain": [
       "                 count          mean           std           min  \\\n",
       "time           51072.0  1.668540e+12  2.655552e+10  1.622506e+12   \n",
       "solar          51072.0  8.205498e+00  1.281208e+01  0.000000e+00   \n",
       "power          51072.0  5.920927e+01  2.019562e+01  9.440000e-01   \n",
       "surplus        51072.0  1.125470e-04  4.584541e-03  0.000000e+00   \n",
       "demand         51072.0  6.741465e+01  2.470510e+01  9.440000e-01   \n",
       "insolation         0.0           NaN           NaN           NaN   \n",
       "temperature        0.0           NaN           NaN           NaN   \n",
       "count_solar    51072.0  2.999184e+01  4.300129e-01  1.000000e+00   \n",
       "count_power    51072.0  2.999170e+01  4.302607e-01  1.000000e+00   \n",
       "count_surplus  51072.0  2.999180e+01  4.298755e-01  1.000000e+00   \n",
       "\n",
       "                        25%           50%           75%           max  \n",
       "time           1.645549e+12  1.668550e+12  1.691536e+12  1.714520e+12  \n",
       "solar          0.000000e+00  1.000000e-03  1.297225e+01  4.969900e+01  \n",
       "power          4.108775e+01  5.835850e+01  7.466225e+01  1.562510e+02  \n",
       "surplus        0.000000e+00  0.000000e+00  0.000000e+00  4.690000e-01  \n",
       "demand         4.252500e+01  7.243400e+01  8.339900e+01  1.562510e+02  \n",
       "insolation              NaN           NaN           NaN           NaN  \n",
       "temperature             NaN           NaN           NaN           NaN  \n",
       "count_solar    3.000000e+01  3.000000e+01  3.000000e+01  3.000000e+01  \n",
       "count_power    3.000000e+01  3.000000e+01  3.000000e+01  3.000000e+01  \n",
       "count_surplus  3.000000e+01  3.000000e+01  3.000000e+01  3.000000e+01  "
      ]
     },
     "execution_count": 7,
     "metadata": {},
     "output_type": "execute_result"
    }
   ],
   "source": [
    "\n",
    "import pandas as pd\n",
    "from statsmodels.graphics.tsaplots import plot_acf\n",
    "import matplotlib.pyplot as plt\n",
    "from statsmodels.tsa.seasonal import STL\n",
    "\n",
    "# Loading and preprocessing steps\n",
    "df = pd.read_csv('../Data/yaoko00006/yaoko00006.csv')\n",
    "df['Date'] = pd.to_datetime(df['time'], unit='ms')\n",
    "\n",
    "\n",
    "df.set_index('Date', inplace=True)\n",
    "df.describe().T\n",
    "\n"
   ]
  },
  {
   "cell_type": "code",
   "execution_count": 8,
   "metadata": {},
   "outputs": [],
   "source": [
    "df['Year'] = df.index.year\n",
    "df['Month'] = df.index.month\n",
    "df['Week'] = df.index.isocalendar().week  \n",
    "df['DayOfWeek'] = df.index.dayofweek\n",
    "df['Day'] = df.index.day\n",
    "df['Hour'] = df.index.hour \n",
    "df['Minute'] = df.index.minute "
   ]
  },
  {
   "cell_type": "markdown",
   "metadata": {},
   "source": [
    "**4.2 ACF features**  \n",
    "\n",
    "All the autocorrelations of a series can be considered features of that series. We can also summarise the autocorrelations to produce new features; for example, the sum of the first ten squared autocorrelation coefficients is a useful summary of how much autocorrelation there is in a series, regardless of lag.\n",
    "\n",
    "We can also compute autocorrelations of the changes in the series between periods. That is, we “difference” the data and create a new time series consisting of the differences between consecutive observations. Then we can compute the autocorrelations of this new differenced series. Occasionally it is useful to apply the same differencing operation again, so we compute the differences of the differences. The autocorrelations of this double differenced series may provide useful information.\n",
    "\n",
    "Another related approach is to compute seasonal differences of a series. If we had monthly data, for example, we would compute the difference between consecutive Januaries, consecutive Februaries, and so on. This enables us to look at how the series is changing between years, rather than between months. Again, the autocorrelations of the seasonally differenced series may provide useful information.\n",
    "\n",
    "- the first autocorrelation coefficient from the original data;\n",
    "- the sum of squares of the first ten autocorrelation coefficients from the original data;\n",
    "- the first autocorrelation coefficient from the differenced data;\n",
    "- the sum of squares of the first ten autocorrelation coefficients from the differenced data;\n",
    "- the first autocorrelation coefficient from the twice differenced data;\n",
    "- the sum of squares of the first ten autocorrelation coefficients from the twice differenced data;\n",
    "- For seasonal data, the autocorrelation coefficient at the first seasonal lag is also returned."
   ]
  },
  {
   "cell_type": "code",
   "execution_count": 9,
   "metadata": {},
   "outputs": [
    {
     "data": {
      "image/png": "[encoded data removed]",
      "text/plain": [
       "<Figure size 640x480 with 1 Axes>"
      ]
     },
     "metadata": {},
     "output_type": "display_data"
    }
   ],
   "source": [
    "plot_acf(df['demand'], lags=40)  # Adjust the number of lags as needed\n",
    "plt.title('Autocorrelation Function for Demand')\n",
    "plt.show()"
   ]
  },
  {
   "cell_type": "markdown",
   "metadata": {},
   "source": [
    "**4.3 STL Features**"
   ]
  },
  {
   "cell_type": "code",
   "execution_count": 15,
   "metadata": {},
   "outputs": [
    {
     "name": "stdout",
     "output_type": "stream",
     "text": [
      "139.04114540426883\n"
     ]
    }
   ],
   "source": [
    "# Perform STL decomposition\n",
    "stl = STL(df['demand'], period=48*30)  \n",
    "result = stl.fit()\n",
    "\n",
    "# Access the individual components\n",
    "seasonal = result.seasonal\n",
    "trend = result.trend\n",
    "residual = result.resid\n",
    "observed = df['demand']\n",
    "\n"
   ]
  },
  {
   "cell_type": "code",
   "execution_count": 17,
   "metadata": {},
   "outputs": [
    {
     "name": "stdout",
     "output_type": "stream",
     "text": [
      "Seasonal Strength 0.9066518801286525\n",
      "Trend Strength 0.6510782594271818\n"
     ]
    }
   ],
   "source": [
    "var_r = residual.var()\n",
    "var_z = (seasonal+residual).var()\n",
    "print(\"Seasonal Strength\", 1 - (var_r/var_z))\n",
    "var_r = residual.var()\n",
    "var_z = (trend+residual).var()\n",
    "print(\"Trend Strength\", 1 - (var_r/var_z))"
   ]
  },
  {
   "cell_type": "markdown",
   "metadata": {},
   "source": [
    "**4.4 Other features**"
   ]
  }
 ],
 "metadata": {
  "kernelspec": {
   "display_name": "devday",
   "language": "python",
   "name": "python3"
  },
  "language_info": {
   "codemirror_mode": {
    "name": "ipython",
    "version": 3
   },
   "file_extension": ".py",
   "mimetype": "text/x-python",
   "name": "python",
   "nbconvert_exporter": "python",
   "pygments_lexer": "ipython3",
   "version": "3.9.19"
  }
 },
 "nbformat": 4,
 "nbformat_minor": 2
}
