{
 "cells": [
  {
   "cell_type": "markdown",
   "metadata": {},
   "source": [
    "1.4 Predictor variables and time series forecasting \n",
    "\n",
    "Example: Electricity demand (ED) \n",
    "\n",
    "**Explanatory model**: It helps explain what causes the variation in electricity demand.\n",
    "$$\n",
    "ED = f(current temperature, strength of economy, population,\n",
    "time of day, day of week, error)\n",
    "$$\n",
    "\n",
    "**Time series model**: Here, prediction of the future is based on past values of a variable, but not on external variables that may affect the system\n",
    "$$\n",
    "ED_{t+1} = f(ED_{t}, ED_{t-1}, ED_{t-2}, ED_{t-3}, ..., error)\n",
    "$$\n",
    "\n",
    "**Mixed models**: Combines the features of the above two models\n",
    "$$\n",
    "ED_{t+1} = f(ED_{t}, current temperature, strength of economy, population,\n",
    "time of day, day of week, error)\n",
    "$$\n",
    "\n",
    "An explanatory model is useful because it incorporates information about other variables, rather than only historical values of the variable to be forecast. However, there are several reasons a forecaster might select a time series model rather than an explanatory or mixed model. First, the system may not be understood, and even if it was understood it may be extremely difficult to measure the relationships that are assumed to govern its behaviour. Second, it is necessary to know or forecast the future values of the various predictors in order to be able to forecast the variable of interest, and this may be too difficult. Third, the main concern may be only to predict what will happen, not to know why it happens. Finally, the time series model may give more accurate forecasts than an explanatory or mixed model.\n",
    "\n",
    "The model to be used in forecasting depends on the resources and data available, the accuracy of the competing models, and the way in which the forecasting model is to be used."
   ]
  },
  {
   "cell_type": "markdown",
   "metadata": {},
   "source": [
    "1.8 Exercises \n",
    "1. For cases 3 and 4 in Section 1.5, list the possible predictor variables that might be useful, assuming that the relevant data are available.\n",
    "- Case 3: Market rate, Car status, Intial price, Buying trend\n",
    "- Case 4: Date of weak, Is having holiday, Is having event, the weather(temperature, ...)\n",
    "2. For case 3 in Section 1.5, describe the five steps of forecasting in the context of this project.\n",
    "- Step 1: Problem definition.\n",
    "     + "
   ]
  }
 ],
 "metadata": {
  "language_info": {
   "name": "python"
  }
 },
 "nbformat": 4,
 "nbformat_minor": 2
}
